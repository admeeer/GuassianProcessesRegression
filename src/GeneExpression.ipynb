{
 "cells": [
  {
   "cell_type": "markdown",
   "metadata": {},
   "source": [
    "# Alexander Peltier & Gabriel Aracena"
   ]
  },
  {
   "cell_type": "markdown",
   "metadata": {},
   "source": [
    "# Gene Expression and Control/Treatment\n",
    "\n",
    "Gene expression refers to how actively a gene is being transcribed to mRNA and then translated into proteins. The expression levels of genes can vary under different conditions, such as in response to treatment or environmental changes. \n",
    "\n",
    "In the context of this assignment, we compare the expression of a gene under two conditions: a control condition (no treatment) and a treatment condition (where cells, for example, are exposed to a specific drug or environmental change)."
   ]
  },
  {
   "cell_type": "markdown",
   "metadata": {},
   "source": [
    "# Guassian Process (GP) Relevancy\n",
    "\n",
    "A guassian process is a non-parametric Bayesian approach to regression and classification. In the context of time series analysis (what we are doing in this assignment) GP can model the continuous underlying function that generates the observed data, which is useful for gene expression data that varies over time.\n",
    "\n",
    "GP involves defining a prior over functions - a mean function m(x) and a covariance function k(x, x') where x and x' are two points in the input space.\n",
    "\n",
    "For gene expression data, x represents time, and the output would be the expression level at that time."
   ]
  },
  {
   "cell_type": "markdown",
   "metadata": {},
   "source": [
    "# How Guassian Process can be used in Linear Regression\n",
    "\n",
    "GP can generalize linear regression by allowing for infinitely many functions to fit the data - rather than assuming a specific functional form (like a line). This is especially useful for modeling non-linear trends in gene expression over time."
   ]
  },
  {
   "cell_type": "markdown",
   "metadata": {},
   "source": [
    "# Implementation"
   ]
  },
  {
   "cell_type": "code",
   "execution_count": null,
   "metadata": {},
   "outputs": [],
   "source": [
    "import GPy\n",
    "import numpy as np\n",
    "import matplotlib.pyplot as plt\n",
    "\n",
    "# Simulate some time series data for gene expression\n",
    "np.random.seed(42)\n",
    "times = np.linspace(0, 10, 100)[:, None]  # Time points\n",
    "true_function = np.sin(times) + 0.5  # True function\n",
    "observed_data = true_function + np.random.normal(0, 0.2, size=true_function.shape)  # Observed data with noise\n",
    "\n",
    "# Define a GP model\n",
    "kernel = GPy.kern.RBF(input_dim=1, variance=1., lengthscale=1.)\n",
    "model = GPy.models.GPRegression(times, observed_data, kernel)\n",
    "\n",
    "# Train the model\n",
    "model.optimize(messages=True)\n",
    "\n",
    "# Plotting\n",
    "model.plot()\n",
    "plt.xlabel('Time')\n",
    "plt.ylabel('Gene Expression Level')\n",
    "plt.title('GP Regression of Gene Expression Over Time')\n",
    "plt.show()\n"
   ]
  }
 ],
 "metadata": {
  "language_info": {
   "name": "python"
  }
 },
 "nbformat": 4,
 "nbformat_minor": 2
}
